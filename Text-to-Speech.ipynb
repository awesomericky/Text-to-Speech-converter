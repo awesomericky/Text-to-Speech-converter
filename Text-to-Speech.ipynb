{
 "cells": [
  {
   "cell_type": "code",
   "execution_count": 5,
   "id": "81f2a56f",
   "metadata": {},
   "outputs": [],
   "source": [
    "from google.cloud import texttospeech\n",
    "import os\n",
    "from os import listdir\n",
    "from os.path import isfile, join, isdir\n",
    "import numpy as np"
   ]
  },
  {
   "cell_type": "code",
   "execution_count": 6,
   "id": "8d8208a2",
   "metadata": {},
   "outputs": [],
   "source": [
    "client = texttospeech.TextToSpeechClient()  # Instantiates a text-to-speech client"
   ]
  },
  {
   "cell_type": "code",
   "execution_count": 16,
   "id": "fc3bccd9",
   "metadata": {},
   "outputs": [],
   "source": [
    "def text_to_speech_for_model_test(sentence, \n",
    "                                  voice_config, \n",
    "                                  file_path='output.mp3',\n",
    "                                  effects_profile_id='headphone-class-device'):\n",
    "    \"\"\"\n",
    "    voice_config[\"gender\"]: person gender (MALE/FEMALE)\n",
    "    voice_config[\"name\"]: speaker type (https://cloud.google.com/text-to-speech/docs/voices)\n",
    "    \n",
    "    effects_profile_id: the device the voice will be played (https://cloud.google.com/text-to-speech/docs/audio-profiles)\n",
    "    \n",
    "    available audio configuration (https://cloud.google.com/text-to-speech/docs/reference/rest/v1/text/synthesize#audioconfig)\n",
    "    \"\"\"\n",
    "    # Set the text input to be synthesized\n",
    "    synthesis_input = texttospeech.SynthesisInput(text=sentence)\n",
    "    \n",
    "    # get language code from the speaker name\n",
    "    language_code = \"-\".join(voice_config['accent'].split(\"-\")[:2])\n",
    "    \n",
    "    # optimize for the device the voice will be played\n",
    "\n",
    "    # Build the voice request, select the language code and the ssml\n",
    "    if voice_config['gender'] == 'MALE':\n",
    "        voice = texttospeech.VoiceSelectionParams(\n",
    "            language_code=language_code,\n",
    "            name=voice_config['accent'],\n",
    "            ssml_gender=texttospeech.SsmlVoiceGender.MALE\n",
    "        )\n",
    "    elif voice_config['gender'] == 'FEMALE':\n",
    "        voice = texttospeech.VoiceSelectionParams(\n",
    "            language_code=language_code,\n",
    "            name=voice_config['accent'],\n",
    "            ssml_gender=texttospeech.SsmlVoiceGender.FEMALE\n",
    "        )\n",
    "    else:\n",
    "        raise ValueError('Unavailable voice configuration')\n",
    "\n",
    "    # Select the type of audio file (.mp3)\n",
    "    audio_config = texttospeech.AudioConfig(\n",
    "        audio_encoding=texttospeech.AudioEncoding.MP3,\n",
    "        effects_profile_id=[effects_profile_id],\n",
    "        speaking_rate=0.85\n",
    "    )\n",
    "\n",
    "    # Perform the text-to-speech request on the text input with the selected\n",
    "    # voice parameters and audio file type\n",
    "    response = client.synthesize_speech(\n",
    "        input=synthesis_input, voice=voice, audio_config=audio_config\n",
    "    )\n",
    "\n",
    "    # Write the response to the output file.\n",
    "    # The response's audio_content is binary.\n",
    "    with open(file_path, \"wb\") as f:\n",
    "        f.write(response.audio_content)\n",
    "    print(f\"Saved in {file_path}\")"
   ]
  },
  {
   "cell_type": "code",
   "execution_count": 32,
   "id": "36cc9c07",
   "metadata": {},
   "outputs": [
    {
     "name": "stdout",
     "output_type": "stream",
     "text": [
      "Saved in Video_material/Speech/SRC_1.mp3\n"
     ]
    }
   ],
   "source": [
    "sentence = 'In safety remote control task, the robot should decide whether the given remote command from the user is safe and project the command onto the safe command set if it is not.'\n",
    "voice_config = {'gender': 'MALE', 'accent': 'en-US-Wavenet-J'} #D\n",
    "file_path=\"Video_material/Speech/SRC_1.mp3\"\n",
    "effects_profile_id=\"handset-class-device\"\n",
    "text_to_speech_for_model_test(\n",
    "    sentence, \n",
    "    voice_config, \n",
    "    file_path=file_path, \n",
    "    effects_profile_id=effects_profile_id)"
   ]
  },
  {
   "cell_type": "code",
   "execution_count": null,
   "id": "bc1309cd",
   "metadata": {},
   "outputs": [],
   "source": []
  }
 ],
 "metadata": {
  "kernelspec": {
   "display_name": "Python 3 (ipykernel)",
   "language": "python",
   "name": "python3"
  },
  "language_info": {
   "codemirror_mode": {
    "name": "ipython",
    "version": 3
   },
   "file_extension": ".py",
   "mimetype": "text/x-python",
   "name": "python",
   "nbconvert_exporter": "python",
   "pygments_lexer": "ipython3",
   "version": "3.9.7"
  }
 },
 "nbformat": 4,
 "nbformat_minor": 5
}
